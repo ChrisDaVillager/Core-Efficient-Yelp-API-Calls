{
 "cells": [
  {
   "cell_type": "markdown",
   "id": "17df2e95",
   "metadata": {},
   "source": [
    "# Core - Efficient Yelp API Calls"
   ]
  },
  {
   "cell_type": "code",
   "execution_count": 2,
   "id": "03f6fb1e",
   "metadata": {},
   "outputs": [],
   "source": [
    "# imports\n",
    "import numpy as np\n",
    "import pandas as pd\n",
    "import matplotlib.pyplot as plt\n",
    "import seaborn as sns\n",
    "import os, json, math, time\n",
    "from yelpapi import YelpAPI\n",
    "from tqdm.notebook import tqdm_notebook"
   ]
  },
  {
   "cell_type": "code",
   "execution_count": 4,
   "id": "b6c7051a",
   "metadata": {},
   "outputs": [],
   "source": [
    "with open ('/Users/chris/.secret/yelp_api.json') as f:\n",
    "        login = json.load(f)\n",
    "yelp_api = YelpAPI(login['api-key'], timeout_s=5.0)"
   ]
  },
  {
   "cell_type": "code",
   "execution_count": 5,
   "id": "93f5b69e",
   "metadata": {},
   "outputs": [],
   "source": [
    "# setting API call params\n",
    "LOCATION = 'Dallas, TX'\n",
    "TERM = 'Tacos'"
   ]
  },
  {
   "cell_type": "code",
   "execution_count": 8,
   "id": "6706dfc0",
   "metadata": {},
   "outputs": [
    {
     "data": {
      "text/plain": [
       "'Data/TX_tacos_results.json'"
      ]
     },
     "execution_count": 8,
     "metadata": {},
     "output_type": "execute_result"
    }
   ],
   "source": [
    "# spec json_file \n",
    "JSON_FILE = \"Data/TX_tacos_results.json\"\n",
    "JSON_FILE"
   ]
  },
  {
   "cell_type": "code",
   "execution_count": 10,
   "id": "d77f9e10",
   "metadata": {},
   "outputs": [
    {
     "name": "stdout",
     "output_type": "stream",
     "text": [
      "[i] Data/TX_tacos_results.json already exists.\n"
     ]
    }
   ],
   "source": [
    "# checking if json file exists\n",
    "file_exist = os.path.isfile(JSON_FILE)\n",
    "\n",
    "if file_exist == False:\n",
    "    folder = os.path.dirname(JSON_FILE)\n",
    "    \n",
    "    if len(folder)>0:\n",
    "        os.makedirs(folder,exist_ok=True)\n",
    "    \n",
    "    print(f'[i] {JSON_FILE} not found. Saving empty list to file.')\n",
    "    \n",
    "    with open(JSON_FILE,'w') as f:\n",
    "        json.dump([],f)\n",
    "        \n",
    "else:\n",
    "    print(f'[i] {JSON_FILE} already exists.')"
   ]
  },
  {
   "cell_type": "code",
   "execution_count": 12,
   "id": "98b06073",
   "metadata": {},
   "outputs": [
    {
     "name": "stdout",
     "output_type": "stream",
     "text": [
      "- 0 previous results found.\n"
     ]
    }
   ],
   "source": [
    "# loading previous results, using len of results for offset\n",
    "with open(JSON_FILE,'r') as f:\n",
    "    previous_results = json.load(f)\n",
    "\n",
    "n_results = len(previous_results)\n",
    "print(f'- {n_results} previous results found.')"
   ]
  },
  {
   "cell_type": "code",
   "execution_count": 13,
   "id": "95754ee2",
   "metadata": {},
   "outputs": [
    {
     "data": {
      "text/plain": [
       "dict_keys(['businesses', 'total', 'region'])"
      ]
     },
     "execution_count": 13,
     "metadata": {},
     "output_type": "execute_result"
    }
   ],
   "source": [
    "# determining how many pages needed\n",
    "results = yelp_api.search_query(location=LOCATION,\n",
    "                                term=TERM,\n",
    "                               offset=n_results)\n",
    "results.keys()"
   ]
  },
  {
   "cell_type": "code",
   "execution_count": 14,
   "id": "88e5976e",
   "metadata": {},
   "outputs": [
    {
     "data": {
      "text/plain": [
       "4300"
      ]
     },
     "execution_count": 14,
     "metadata": {},
     "output_type": "execute_result"
    }
   ],
   "source": [
    "# grabbing total results\n",
    "total_results = results['total']\n",
    "total_results"
   ]
  },
  {
   "cell_type": "code",
   "execution_count": 15,
   "id": "40486caa",
   "metadata": {},
   "outputs": [
    {
     "data": {
      "text/plain": [
       "20"
      ]
     },
     "execution_count": 15,
     "metadata": {},
     "output_type": "execute_result"
    }
   ],
   "source": [
    "# determing how many details obtained\n",
    "results_per_page = len(results['businesses'])\n",
    "results_per_page"
   ]
  },
  {
   "cell_type": "code",
   "execution_count": 16,
   "id": "66272f46",
   "metadata": {},
   "outputs": [
    {
     "data": {
      "text/plain": [
       "215"
      ]
     },
     "execution_count": 16,
     "metadata": {},
     "output_type": "execute_result"
    }
   ],
   "source": [
    "# rounding total pages of results\n",
    "n_pages = math.ceil((results['total']-n_results)/ results_per_page)\n",
    "n_pages"
   ]
  },
  {
   "cell_type": "code",
   "execution_count": 17,
   "id": "0254706a",
   "metadata": {},
   "outputs": [],
   "source": [
    "# joining new results with old list\n",
    "previous_results.extend(results['businesses'])\n",
    "with open(JSON_FILE,'w') as f:\n",
    "    json.dump(previous_results,f)"
   ]
  },
  {
   "cell_type": "code",
   "execution_count": 18,
   "id": "f8707a91",
   "metadata": {},
   "outputs": [
    {
     "data": {
      "application/vnd.jupyter.widget-view+json": {
       "model_id": "8d97d32b4e164b949bd6cb2c7f45f11a",
       "version_major": 2,
       "version_minor": 0
      },
      "text/plain": [
       "  0%|          | 0/215 [00:00<?, ?it/s]"
      ]
     },
     "metadata": {},
     "output_type": "display_data"
    },
    {
     "ename": "YelpAPIError",
     "evalue": "VALIDATION_ERROR: Too many results requested, limit+offset must be <= 1000.",
     "output_type": "error",
     "traceback": [
      "\u001b[1;31m---------------------------------------------------------------------------\u001b[0m",
      "\u001b[1;31mYelpAPIError\u001b[0m                              Traceback (most recent call last)",
      "Cell \u001b[1;32mIn [18], line 8\u001b[0m\n\u001b[0;32m      4\u001b[0m     previous_results \u001b[38;5;241m=\u001b[39m json\u001b[38;5;241m.\u001b[39mload(f)\n\u001b[0;32m      6\u001b[0m n_results \u001b[38;5;241m=\u001b[39m \u001b[38;5;28mlen\u001b[39m(previous_results)\n\u001b[1;32m----> 8\u001b[0m results \u001b[38;5;241m=\u001b[39m yelp_api\u001b[38;5;241m.\u001b[39msearch_query(location\u001b[38;5;241m=\u001b[39mLOCATION,\n\u001b[0;32m      9\u001b[0m                                 term\u001b[38;5;241m=\u001b[39mTERM,\n\u001b[0;32m     10\u001b[0m                                 offset\u001b[38;5;241m=\u001b[39mn_results)\n\u001b[0;32m     12\u001b[0m previous_results\u001b[38;5;241m.\u001b[39mextend(results[\u001b[38;5;124m'\u001b[39m\u001b[38;5;124mbusinesses\u001b[39m\u001b[38;5;124m'\u001b[39m])\n\u001b[0;32m     14\u001b[0m \u001b[38;5;28;01mwith\u001b[39;00m \u001b[38;5;28mopen\u001b[39m(JSON_FILE,\u001b[38;5;124m'\u001b[39m\u001b[38;5;124mw\u001b[39m\u001b[38;5;124m'\u001b[39m) \u001b[38;5;28;01mas\u001b[39;00m f:\n",
      "File \u001b[1;32m~\\anaconda3\\envs\\dojo-env\\lib\\site-packages\\yelpapi\\yelpapi.py:234\u001b[0m, in \u001b[0;36mYelpAPI.search_query\u001b[1;34m(self, **kwargs)\u001b[0m\n\u001b[0;32m    230\u001b[0m \u001b[38;5;28;01mif\u001b[39;00m \u001b[38;5;129;01mnot\u001b[39;00m kwargs\u001b[38;5;241m.\u001b[39mget(\u001b[38;5;124m'\u001b[39m\u001b[38;5;124mlocation\u001b[39m\u001b[38;5;124m'\u001b[39m) \u001b[38;5;129;01mand\u001b[39;00m (\u001b[38;5;129;01mnot\u001b[39;00m kwargs\u001b[38;5;241m.\u001b[39mget(\u001b[38;5;124m'\u001b[39m\u001b[38;5;124mlatitude\u001b[39m\u001b[38;5;124m'\u001b[39m) \u001b[38;5;129;01mor\u001b[39;00m \u001b[38;5;129;01mnot\u001b[39;00m kwargs\u001b[38;5;241m.\u001b[39mget(\u001b[38;5;124m'\u001b[39m\u001b[38;5;124mlongitude\u001b[39m\u001b[38;5;124m'\u001b[39m)):\n\u001b[0;32m    231\u001b[0m     \u001b[38;5;28;01mraise\u001b[39;00m \u001b[38;5;167;01mValueError\u001b[39;00m(\u001b[38;5;124m'\u001b[39m\u001b[38;5;124mA valid location (parameter \u001b[39m\u001b[38;5;124m\"\u001b[39m\u001b[38;5;124mlocation\u001b[39m\u001b[38;5;124m\"\u001b[39m\u001b[38;5;124m) or latitude/longitude combination \u001b[39m\u001b[38;5;124m'\u001b[39m\n\u001b[0;32m    232\u001b[0m                      \u001b[38;5;124m'\u001b[39m\u001b[38;5;124m(parameters \u001b[39m\u001b[38;5;124m\"\u001b[39m\u001b[38;5;124mlatitude\u001b[39m\u001b[38;5;124m\"\u001b[39m\u001b[38;5;124m and \u001b[39m\u001b[38;5;124m\"\u001b[39m\u001b[38;5;124mlongitude\u001b[39m\u001b[38;5;124m\"\u001b[39m\u001b[38;5;124m) must be provided.\u001b[39m\u001b[38;5;124m'\u001b[39m)\n\u001b[1;32m--> 234\u001b[0m \u001b[38;5;28;01mreturn\u001b[39;00m \u001b[38;5;28;43mself\u001b[39;49m\u001b[38;5;241;43m.\u001b[39;49m\u001b[43m_query\u001b[49m\u001b[43m(\u001b[49m\u001b[43mSEARCH_API_URL\u001b[49m\u001b[43m,\u001b[49m\u001b[43m \u001b[49m\u001b[38;5;241;43m*\u001b[39;49m\u001b[38;5;241;43m*\u001b[39;49m\u001b[43mkwargs\u001b[49m\u001b[43m)\u001b[49m\n",
      "File \u001b[1;32m~\\anaconda3\\envs\\dojo-env\\lib\\site-packages\\yelpapi\\yelpapi.py:282\u001b[0m, in \u001b[0;36mYelpAPI._query\u001b[1;34m(self, url, **kwargs)\u001b[0m\n\u001b[0;32m    278\u001b[0m \u001b[38;5;66;03m# Yelp can return one of many different API errors, so check for one of them.\u001b[39;00m\n\u001b[0;32m    279\u001b[0m \u001b[38;5;66;03m# The Yelp Fusion API does not yet have a complete list of errors, but this is on the TODO list; see\u001b[39;00m\n\u001b[0;32m    280\u001b[0m \u001b[38;5;66;03m# https://github.com/Yelp/yelp-fusion/issues/95 for more info.\u001b[39;00m\n\u001b[0;32m    281\u001b[0m \u001b[38;5;28;01mif\u001b[39;00m \u001b[38;5;124m'\u001b[39m\u001b[38;5;124merror\u001b[39m\u001b[38;5;124m'\u001b[39m \u001b[38;5;129;01min\u001b[39;00m response_json:\n\u001b[1;32m--> 282\u001b[0m     \u001b[38;5;28;01mraise\u001b[39;00m YelpAPI\u001b[38;5;241m.\u001b[39mYelpAPIError(\u001b[38;5;124m'\u001b[39m\u001b[38;5;132;01m{}\u001b[39;00m\u001b[38;5;124m: \u001b[39m\u001b[38;5;132;01m{}\u001b[39;00m\u001b[38;5;124m'\u001b[39m\u001b[38;5;241m.\u001b[39mformat(response_json[\u001b[38;5;124m'\u001b[39m\u001b[38;5;124merror\u001b[39m\u001b[38;5;124m'\u001b[39m][\u001b[38;5;124m'\u001b[39m\u001b[38;5;124mcode\u001b[39m\u001b[38;5;124m'\u001b[39m],\n\u001b[0;32m    283\u001b[0m                                                response_json[\u001b[38;5;124m'\u001b[39m\u001b[38;5;124merror\u001b[39m\u001b[38;5;124m'\u001b[39m][\u001b[38;5;124m'\u001b[39m\u001b[38;5;124mdescription\u001b[39m\u001b[38;5;124m'\u001b[39m]))\n\u001b[0;32m    285\u001b[0m \u001b[38;5;66;03m# we got a good response, so return\u001b[39;00m\n\u001b[0;32m    286\u001b[0m \u001b[38;5;28;01mreturn\u001b[39;00m response_json\n",
      "\u001b[1;31mYelpAPIError\u001b[0m: VALIDATION_ERROR: Too many results requested, limit+offset must be <= 1000."
     ]
    }
   ],
   "source": [
    "# for loop to call each page\n",
    "for i in tqdm_notebook( range(1,n_pages+1)):\n",
    "    with open(JSON_FILE,'r') as f:\n",
    "        previous_results = json.load(f)\n",
    "    \n",
    "    n_results = len(previous_results)\n",
    "    \n",
    "    results = yelp_api.search_query(location=LOCATION,\n",
    "                                    term=TERM,\n",
    "                                    offset=n_results)\n",
    "    \n",
    "    previous_results.extend(results['businesses'])\n",
    "    \n",
    "    with open(JSON_FILE,'w') as f:\n",
    "        json.dump(previous_results,f)\n",
    "        \n",
    "    time.sleep(.2)"
   ]
  },
  {
   "cell_type": "code",
   "execution_count": 19,
   "id": "3b1c077a",
   "metadata": {},
   "outputs": [
    {
     "data": {
      "text/plain": [
       "False"
      ]
     },
     "execution_count": 19,
     "metadata": {},
     "output_type": "execute_result"
    }
   ],
   "source": [
    "# removing file and confirming programmatic way\n",
    "os.remove(JSON_FILE)\n",
    "os.path.isfile(JSON_FILE)"
   ]
  },
  {
   "cell_type": "code",
   "execution_count": 20,
   "id": "35e924f6",
   "metadata": {},
   "outputs": [],
   "source": [
    "# creating function to accept json_file\n",
    "def create_json_file(JSON_FILE, delete_if_exists=False):\n",
    "    \n",
    "    file_exists = os.path.isfile(JSON_FILE)\n",
    "    \n",
    "    # IF file exists\n",
    "    if file_exists == True:\n",
    "        \n",
    "        if delete_if_exists == True:\n",
    "            print(f'[!] {JSON_FILE} already exists. Deleting previous file..')\n",
    "            # deleting & confirming file removal\n",
    "            os.remove(JSON_FILE)\n",
    "            \n",
    "            create_json_file(JSON_FILE, delete_if_exists=False)\n",
    "        else:\n",
    "            print(f'[i] {JSON_FILE} already exists.')\n",
    "            \n",
    "    # if file does NOT exist        \n",
    "    else:\n",
    "        \n",
    "        print(f'[i] {JSON_FILE} not found. Saving empty list to new file.')\n",
    "        \n",
    "        folder = os.path.dirname(JSON_FILE)\n",
    "        \n",
    "        if len(folder)>0:\n",
    "            os.makedirs(folder, exist_ok=True)\n",
    "            \n",
    "        with open(JSON_FILE,'w') as f:\n",
    "            json.dump([],f)"
   ]
  },
  {
   "cell_type": "code",
   "execution_count": 21,
   "id": "5377603c",
   "metadata": {},
   "outputs": [
    {
     "name": "stdout",
     "output_type": "stream",
     "text": [
      "[i] Data/TX_tacos_results.json not found. Saving empty list to new file.\n",
      "- 0 previous results found.\n"
     ]
    },
    {
     "data": {
      "text/plain": [
       "215"
      ]
     },
     "execution_count": 21,
     "metadata": {},
     "output_type": "execute_result"
    }
   ],
   "source": [
    "# creating new empty json file\n",
    "create_json_file(JSON_FILE, delete_if_exists=True)\n",
    "\n",
    "with open(JSON_FILE,'r') as f:\n",
    "    previous_results = json.load(f)\n",
    "\n",
    "n_results = len(previous_results)\n",
    "print(f'- {n_results} previous results found.')\n",
    "\n",
    "results = yelp_api.search_query(location=LOCATION,\n",
    "                                term=TERM,\n",
    "                               offset=n_results)\n",
    "\n",
    "total_results = results['total']\n",
    "\n",
    "results_per_page = len(results['businesses'])\n",
    "\n",
    "n_pages = math.ceil((results['total']-n_results)/ results_per_page)\n",
    "n_pages"
   ]
  },
  {
   "cell_type": "code",
   "execution_count": 22,
   "id": "612ce82a",
   "metadata": {},
   "outputs": [
    {
     "data": {
      "application/vnd.jupyter.widget-view+json": {
       "model_id": "3fca91675da046b0a664b358e2e6b1de",
       "version_major": 2,
       "version_minor": 0
      },
      "text/plain": [
       "  0%|          | 0/215 [00:00<?, ?it/s]"
      ]
     },
     "metadata": {},
     "output_type": "display_data"
    },
    {
     "name": "stdout",
     "output_type": "stream",
     "text": [
      "Exceeded 1000 api calls. Stopping loop.\n"
     ]
    }
   ],
   "source": [
    "for i in tqdm_notebook( range(1,n_pages+1)):\n",
    "    \n",
    "    with open(JSON_FILE,'r') as f:\n",
    "        previous_results=json.load(f)\n",
    "    \n",
    "    n_results = len(previous_results)\n",
    "    \n",
    "    if (n_results + results_per_page) > 1000:\n",
    "        print('Exceeded 1000 api calls. Stopping loop.')\n",
    "        break\n",
    "        \n",
    "    results = yelp_api.search_query(location=LOCATION,\n",
    "                                    term=TERM,\n",
    "                                   offset=n_results)\n",
    "    \n",
    "    previous_results.extend(results['businesses'])\n",
    "    \n",
    "    with open(JSON_FILE,'w') as f:\n",
    "        json.dump(previous_results,f)\n",
    "        \n",
    "    time.sleep(.2)"
   ]
  },
  {
   "cell_type": "code",
   "execution_count": 23,
   "id": "46d18e54",
   "metadata": {},
   "outputs": [
    {
     "data": {
      "text/html": [
       "<div>\n",
       "<style scoped>\n",
       "    .dataframe tbody tr th:only-of-type {\n",
       "        vertical-align: middle;\n",
       "    }\n",
       "\n",
       "    .dataframe tbody tr th {\n",
       "        vertical-align: top;\n",
       "    }\n",
       "\n",
       "    .dataframe thead th {\n",
       "        text-align: right;\n",
       "    }\n",
       "</style>\n",
       "<table border=\"1\" class=\"dataframe\">\n",
       "  <thead>\n",
       "    <tr style=\"text-align: right;\">\n",
       "      <th></th>\n",
       "      <th>id</th>\n",
       "      <th>alias</th>\n",
       "      <th>name</th>\n",
       "      <th>image_url</th>\n",
       "      <th>is_closed</th>\n",
       "      <th>url</th>\n",
       "      <th>review_count</th>\n",
       "      <th>categories</th>\n",
       "      <th>rating</th>\n",
       "      <th>coordinates</th>\n",
       "      <th>transactions</th>\n",
       "      <th>price</th>\n",
       "      <th>location</th>\n",
       "      <th>phone</th>\n",
       "      <th>display_phone</th>\n",
       "      <th>distance</th>\n",
       "    </tr>\n",
       "  </thead>\n",
       "  <tbody>\n",
       "    <tr>\n",
       "      <th>0</th>\n",
       "      <td>end4ugjsE0EWtGWswkprOA</td>\n",
       "      <td>mami-coco-dallas-2</td>\n",
       "      <td>Mami Coco</td>\n",
       "      <td>https://s3-media4.fl.yelpcdn.com/bphoto/Ru6JAt...</td>\n",
       "      <td>False</td>\n",
       "      <td>https://www.yelp.com/biz/mami-coco-dallas-2?ad...</td>\n",
       "      <td>295</td>\n",
       "      <td>[{'alias': 'tacos', 'title': 'Tacos'}]</td>\n",
       "      <td>5.0</td>\n",
       "      <td>{'latitude': 32.8003812, 'longitude': -96.777516}</td>\n",
       "      <td>[delivery, pickup]</td>\n",
       "      <td>$</td>\n",
       "      <td>{'address1': '4500 Bryan St', 'address2': 'Ste...</td>\n",
       "      <td>+14699962834</td>\n",
       "      <td>(469) 996-2834</td>\n",
       "      <td>4807.241470</td>\n",
       "    </tr>\n",
       "    <tr>\n",
       "      <th>1</th>\n",
       "      <td>14CB7s3RctxhLAvvI4sQMQ</td>\n",
       "      <td>el-come-taco-dallas</td>\n",
       "      <td>El Come Taco</td>\n",
       "      <td>https://s3-media4.fl.yelpcdn.com/bphoto/tc_jv9...</td>\n",
       "      <td>False</td>\n",
       "      <td>https://www.yelp.com/biz/el-come-taco-dallas?a...</td>\n",
       "      <td>567</td>\n",
       "      <td>[{'alias': 'mexican', 'title': 'Mexican'}]</td>\n",
       "      <td>4.5</td>\n",
       "      <td>{'latitude': 32.8123115, 'longitude': -96.7835...</td>\n",
       "      <td>[delivery, pickup]</td>\n",
       "      <td>$</td>\n",
       "      <td>{'address1': '2513 N Fitzhugh Ave', 'address2'...</td>\n",
       "      <td>+12148213738</td>\n",
       "      <td>(214) 821-3738</td>\n",
       "      <td>3355.929875</td>\n",
       "    </tr>\n",
       "    <tr>\n",
       "      <th>2</th>\n",
       "      <td>6c7hh5pjyGZxaJiyGZBG5g</td>\n",
       "      <td>tacos-la-banqueta-dallas-4</td>\n",
       "      <td>Tacos La Banqueta</td>\n",
       "      <td>https://s3-media4.fl.yelpcdn.com/bphoto/3IIw5H...</td>\n",
       "      <td>False</td>\n",
       "      <td>https://www.yelp.com/biz/tacos-la-banqueta-dal...</td>\n",
       "      <td>537</td>\n",
       "      <td>[{'alias': 'mexican', 'title': 'Mexican'}]</td>\n",
       "      <td>4.5</td>\n",
       "      <td>{'latitude': 32.79954, 'longitude': -96.7771099}</td>\n",
       "      <td>[delivery]</td>\n",
       "      <td>$</td>\n",
       "      <td>{'address1': '1305 N Carroll Ave', 'address2':...</td>\n",
       "      <td>+12148231260</td>\n",
       "      <td>(214) 823-1260</td>\n",
       "      <td>4910.418498</td>\n",
       "    </tr>\n",
       "    <tr>\n",
       "      <th>3</th>\n",
       "      <td>Y6JRG1rjgplB8I_YHWjpkA</td>\n",
       "      <td>el-tacaso-dallas-5</td>\n",
       "      <td>El Tacaso</td>\n",
       "      <td>https://s3-media2.fl.yelpcdn.com/bphoto/ezdi1-...</td>\n",
       "      <td>False</td>\n",
       "      <td>https://www.yelp.com/biz/el-tacaso-dallas-5?ad...</td>\n",
       "      <td>282</td>\n",
       "      <td>[{'alias': 'mexican', 'title': 'Mexican'}]</td>\n",
       "      <td>4.5</td>\n",
       "      <td>{'latitude': 32.85853, 'longitude': -96.874457...</td>\n",
       "      <td>[delivery]</td>\n",
       "      <td>$</td>\n",
       "      <td>{'address1': '2739 W NW Hwy', 'address2': '', ...</td>\n",
       "      <td>+12143660176</td>\n",
       "      <td>(214) 366-0176</td>\n",
       "      <td>7237.278571</td>\n",
       "    </tr>\n",
       "    <tr>\n",
       "      <th>4</th>\n",
       "      <td>GbKN-edIpqhNXH_iItk04w</td>\n",
       "      <td>velvet-taco-dallas-16</td>\n",
       "      <td>Velvet Taco</td>\n",
       "      <td>https://s3-media3.fl.yelpcdn.com/bphoto/qsehTm...</td>\n",
       "      <td>False</td>\n",
       "      <td>https://www.yelp.com/biz/velvet-taco-dallas-16...</td>\n",
       "      <td>2953</td>\n",
       "      <td>[{'alias': 'newamerican', 'title': 'American (...</td>\n",
       "      <td>4.5</td>\n",
       "      <td>{'latitude': 32.8216823671486, 'longitude': -9...</td>\n",
       "      <td>[delivery, pickup]</td>\n",
       "      <td>$</td>\n",
       "      <td>{'address1': '3012 N Henderson Ave', 'address2...</td>\n",
       "      <td>+12148238358</td>\n",
       "      <td>(214) 823-8358</td>\n",
       "      <td>2394.176839</td>\n",
       "    </tr>\n",
       "  </tbody>\n",
       "</table>\n",
       "</div>"
      ],
      "text/plain": [
       "                       id                       alias               name  \\\n",
       "0  end4ugjsE0EWtGWswkprOA          mami-coco-dallas-2          Mami Coco   \n",
       "1  14CB7s3RctxhLAvvI4sQMQ         el-come-taco-dallas       El Come Taco   \n",
       "2  6c7hh5pjyGZxaJiyGZBG5g  tacos-la-banqueta-dallas-4  Tacos La Banqueta   \n",
       "3  Y6JRG1rjgplB8I_YHWjpkA          el-tacaso-dallas-5          El Tacaso   \n",
       "4  GbKN-edIpqhNXH_iItk04w       velvet-taco-dallas-16        Velvet Taco   \n",
       "\n",
       "                                           image_url  is_closed  \\\n",
       "0  https://s3-media4.fl.yelpcdn.com/bphoto/Ru6JAt...      False   \n",
       "1  https://s3-media4.fl.yelpcdn.com/bphoto/tc_jv9...      False   \n",
       "2  https://s3-media4.fl.yelpcdn.com/bphoto/3IIw5H...      False   \n",
       "3  https://s3-media2.fl.yelpcdn.com/bphoto/ezdi1-...      False   \n",
       "4  https://s3-media3.fl.yelpcdn.com/bphoto/qsehTm...      False   \n",
       "\n",
       "                                                 url  review_count  \\\n",
       "0  https://www.yelp.com/biz/mami-coco-dallas-2?ad...           295   \n",
       "1  https://www.yelp.com/biz/el-come-taco-dallas?a...           567   \n",
       "2  https://www.yelp.com/biz/tacos-la-banqueta-dal...           537   \n",
       "3  https://www.yelp.com/biz/el-tacaso-dallas-5?ad...           282   \n",
       "4  https://www.yelp.com/biz/velvet-taco-dallas-16...          2953   \n",
       "\n",
       "                                          categories  rating  \\\n",
       "0             [{'alias': 'tacos', 'title': 'Tacos'}]     5.0   \n",
       "1         [{'alias': 'mexican', 'title': 'Mexican'}]     4.5   \n",
       "2         [{'alias': 'mexican', 'title': 'Mexican'}]     4.5   \n",
       "3         [{'alias': 'mexican', 'title': 'Mexican'}]     4.5   \n",
       "4  [{'alias': 'newamerican', 'title': 'American (...     4.5   \n",
       "\n",
       "                                         coordinates        transactions  \\\n",
       "0  {'latitude': 32.8003812, 'longitude': -96.777516}  [delivery, pickup]   \n",
       "1  {'latitude': 32.8123115, 'longitude': -96.7835...  [delivery, pickup]   \n",
       "2   {'latitude': 32.79954, 'longitude': -96.7771099}          [delivery]   \n",
       "3  {'latitude': 32.85853, 'longitude': -96.874457...          [delivery]   \n",
       "4  {'latitude': 32.8216823671486, 'longitude': -9...  [delivery, pickup]   \n",
       "\n",
       "  price                                           location         phone  \\\n",
       "0     $  {'address1': '4500 Bryan St', 'address2': 'Ste...  +14699962834   \n",
       "1     $  {'address1': '2513 N Fitzhugh Ave', 'address2'...  +12148213738   \n",
       "2     $  {'address1': '1305 N Carroll Ave', 'address2':...  +12148231260   \n",
       "3     $  {'address1': '2739 W NW Hwy', 'address2': '', ...  +12143660176   \n",
       "4     $  {'address1': '3012 N Henderson Ave', 'address2...  +12148238358   \n",
       "\n",
       "    display_phone     distance  \n",
       "0  (469) 996-2834  4807.241470  \n",
       "1  (214) 821-3738  3355.929875  \n",
       "2  (214) 823-1260  4910.418498  \n",
       "3  (214) 366-0176  7237.278571  \n",
       "4  (214) 823-8358  2394.176839  "
      ]
     },
     "metadata": {},
     "output_type": "display_data"
    },
    {
     "data": {
      "text/html": [
       "<div>\n",
       "<style scoped>\n",
       "    .dataframe tbody tr th:only-of-type {\n",
       "        vertical-align: middle;\n",
       "    }\n",
       "\n",
       "    .dataframe tbody tr th {\n",
       "        vertical-align: top;\n",
       "    }\n",
       "\n",
       "    .dataframe thead th {\n",
       "        text-align: right;\n",
       "    }\n",
       "</style>\n",
       "<table border=\"1\" class=\"dataframe\">\n",
       "  <thead>\n",
       "    <tr style=\"text-align: right;\">\n",
       "      <th></th>\n",
       "      <th>id</th>\n",
       "      <th>alias</th>\n",
       "      <th>name</th>\n",
       "      <th>image_url</th>\n",
       "      <th>is_closed</th>\n",
       "      <th>url</th>\n",
       "      <th>review_count</th>\n",
       "      <th>categories</th>\n",
       "      <th>rating</th>\n",
       "      <th>coordinates</th>\n",
       "      <th>transactions</th>\n",
       "      <th>price</th>\n",
       "      <th>location</th>\n",
       "      <th>phone</th>\n",
       "      <th>display_phone</th>\n",
       "      <th>distance</th>\n",
       "    </tr>\n",
       "  </thead>\n",
       "  <tbody>\n",
       "    <tr>\n",
       "      <th>995</th>\n",
       "      <td>mhehMNiw_XglMpcLr1G7pQ</td>\n",
       "      <td>chante-mexican-grill-and-cantina-lewisville</td>\n",
       "      <td>Chante Mexican Grill &amp; Cantina</td>\n",
       "      <td>https://s3-media2.fl.yelpcdn.com/bphoto/YtRNLL...</td>\n",
       "      <td>False</td>\n",
       "      <td>https://www.yelp.com/biz/chante-mexican-grill-...</td>\n",
       "      <td>244</td>\n",
       "      <td>[{'alias': 'mexican', 'title': 'Mexican'}, {'a...</td>\n",
       "      <td>4.5</td>\n",
       "      <td>{'latitude': 33.006418, 'longitude': -97.013369}</td>\n",
       "      <td>[delivery, pickup]</td>\n",
       "      <td>$$</td>\n",
       "      <td>{'address1': '951 W Round Grove Rd 200', 'addr...</td>\n",
       "      <td>+14692938098</td>\n",
       "      <td>(469) 293-8098</td>\n",
       "      <td>27221.320478</td>\n",
       "    </tr>\n",
       "    <tr>\n",
       "      <th>996</th>\n",
       "      <td>VDX3T2TuiGdqZ_aV4syh5g</td>\n",
       "      <td>taco-grande-dallas</td>\n",
       "      <td>Taco Grande</td>\n",
       "      <td></td>\n",
       "      <td>False</td>\n",
       "      <td>https://www.yelp.com/biz/taco-grande-dallas?ad...</td>\n",
       "      <td>1</td>\n",
       "      <td>[{'alias': 'mexican', 'title': 'Mexican'}]</td>\n",
       "      <td>5.0</td>\n",
       "      <td>{'latitude': 32.8807851, 'longitude': -96.8790...</td>\n",
       "      <td>[]</td>\n",
       "      <td>$</td>\n",
       "      <td>{'address1': '2962 Walnut Hill Ln', 'address2'...</td>\n",
       "      <td></td>\n",
       "      <td></td>\n",
       "      <td>8659.055107</td>\n",
       "    </tr>\n",
       "    <tr>\n",
       "      <th>997</th>\n",
       "      <td>d3qYWYZZ55unPi8Ka46mjw</td>\n",
       "      <td>placidos-cocina-dallas-2</td>\n",
       "      <td>Placidos Cocina</td>\n",
       "      <td>https://s3-media2.fl.yelpcdn.com/bphoto/XJypag...</td>\n",
       "      <td>False</td>\n",
       "      <td>https://www.yelp.com/biz/placidos-cocina-dalla...</td>\n",
       "      <td>9</td>\n",
       "      <td>[{'alias': 'tex-mex', 'title': 'Tex-Mex'}, {'a...</td>\n",
       "      <td>3.5</td>\n",
       "      <td>{'latitude': 32.7637319890399, 'longitude': -9...</td>\n",
       "      <td>[delivery]</td>\n",
       "      <td>NaN</td>\n",
       "      <td>{'address1': '6939 Scyene Rd', 'address2': '',...</td>\n",
       "      <td>+12149298829</td>\n",
       "      <td>(214) 929-8829</td>\n",
       "      <td>12513.066435</td>\n",
       "    </tr>\n",
       "    <tr>\n",
       "      <th>998</th>\n",
       "      <td>t7_wOHU3wLx7oMBgDtgicQ</td>\n",
       "      <td>taqueria-tepito-dallas-richardson</td>\n",
       "      <td>Taqueria Tepito - Dallas</td>\n",
       "      <td>https://s3-media2.fl.yelpcdn.com/bphoto/jEMrJL...</td>\n",
       "      <td>False</td>\n",
       "      <td>https://www.yelp.com/biz/taqueria-tepito-dalla...</td>\n",
       "      <td>1</td>\n",
       "      <td>[{'alias': 'mexican', 'title': 'Mexican'}]</td>\n",
       "      <td>5.0</td>\n",
       "      <td>{'latitude': 33.0014865, 'longitude': -96.6830...</td>\n",
       "      <td>[delivery, pickup]</td>\n",
       "      <td>NaN</td>\n",
       "      <td>{'address1': '3601 N Jupiter Rd', 'address2': ...</td>\n",
       "      <td>+14696260047</td>\n",
       "      <td>(469) 626-0047</td>\n",
       "      <td>21130.257569</td>\n",
       "    </tr>\n",
       "    <tr>\n",
       "      <th>999</th>\n",
       "      <td>7ijKB11MZR4_bhsyJCfCGg</td>\n",
       "      <td>koryo-kalbi-korean-bbq-dallas</td>\n",
       "      <td>Koryo Kalbi Korean BBQ</td>\n",
       "      <td>https://s3-media2.fl.yelpcdn.com/bphoto/EMrEEb...</td>\n",
       "      <td>False</td>\n",
       "      <td>https://www.yelp.com/biz/koryo-kalbi-korean-bb...</td>\n",
       "      <td>897</td>\n",
       "      <td>[{'alias': 'korean', 'title': 'Korean'}]</td>\n",
       "      <td>4.0</td>\n",
       "      <td>{'latitude': 32.895487, 'longitude': -96.893252}</td>\n",
       "      <td>[pickup]</td>\n",
       "      <td>$$</td>\n",
       "      <td>{'address1': '2560 Royal Ln', 'address2': 'Ste...</td>\n",
       "      <td>+12142727486</td>\n",
       "      <td>(214) 272-7486</td>\n",
       "      <td>10694.508271</td>\n",
       "    </tr>\n",
       "  </tbody>\n",
       "</table>\n",
       "</div>"
      ],
      "text/plain": [
       "                         id                                        alias  \\\n",
       "995  mhehMNiw_XglMpcLr1G7pQ  chante-mexican-grill-and-cantina-lewisville   \n",
       "996  VDX3T2TuiGdqZ_aV4syh5g                           taco-grande-dallas   \n",
       "997  d3qYWYZZ55unPi8Ka46mjw                     placidos-cocina-dallas-2   \n",
       "998  t7_wOHU3wLx7oMBgDtgicQ            taqueria-tepito-dallas-richardson   \n",
       "999  7ijKB11MZR4_bhsyJCfCGg                koryo-kalbi-korean-bbq-dallas   \n",
       "\n",
       "                               name  \\\n",
       "995  Chante Mexican Grill & Cantina   \n",
       "996                     Taco Grande   \n",
       "997                 Placidos Cocina   \n",
       "998        Taqueria Tepito - Dallas   \n",
       "999          Koryo Kalbi Korean BBQ   \n",
       "\n",
       "                                             image_url  is_closed  \\\n",
       "995  https://s3-media2.fl.yelpcdn.com/bphoto/YtRNLL...      False   \n",
       "996                                                         False   \n",
       "997  https://s3-media2.fl.yelpcdn.com/bphoto/XJypag...      False   \n",
       "998  https://s3-media2.fl.yelpcdn.com/bphoto/jEMrJL...      False   \n",
       "999  https://s3-media2.fl.yelpcdn.com/bphoto/EMrEEb...      False   \n",
       "\n",
       "                                                   url  review_count  \\\n",
       "995  https://www.yelp.com/biz/chante-mexican-grill-...           244   \n",
       "996  https://www.yelp.com/biz/taco-grande-dallas?ad...             1   \n",
       "997  https://www.yelp.com/biz/placidos-cocina-dalla...             9   \n",
       "998  https://www.yelp.com/biz/taqueria-tepito-dalla...             1   \n",
       "999  https://www.yelp.com/biz/koryo-kalbi-korean-bb...           897   \n",
       "\n",
       "                                            categories  rating  \\\n",
       "995  [{'alias': 'mexican', 'title': 'Mexican'}, {'a...     4.5   \n",
       "996         [{'alias': 'mexican', 'title': 'Mexican'}]     5.0   \n",
       "997  [{'alias': 'tex-mex', 'title': 'Tex-Mex'}, {'a...     3.5   \n",
       "998         [{'alias': 'mexican', 'title': 'Mexican'}]     5.0   \n",
       "999           [{'alias': 'korean', 'title': 'Korean'}]     4.0   \n",
       "\n",
       "                                           coordinates        transactions  \\\n",
       "995   {'latitude': 33.006418, 'longitude': -97.013369}  [delivery, pickup]   \n",
       "996  {'latitude': 32.8807851, 'longitude': -96.8790...                  []   \n",
       "997  {'latitude': 32.7637319890399, 'longitude': -9...          [delivery]   \n",
       "998  {'latitude': 33.0014865, 'longitude': -96.6830...  [delivery, pickup]   \n",
       "999   {'latitude': 32.895487, 'longitude': -96.893252}            [pickup]   \n",
       "\n",
       "    price                                           location         phone  \\\n",
       "995    $$  {'address1': '951 W Round Grove Rd 200', 'addr...  +14692938098   \n",
       "996     $  {'address1': '2962 Walnut Hill Ln', 'address2'...                 \n",
       "997   NaN  {'address1': '6939 Scyene Rd', 'address2': '',...  +12149298829   \n",
       "998   NaN  {'address1': '3601 N Jupiter Rd', 'address2': ...  +14696260047   \n",
       "999    $$  {'address1': '2560 Royal Ln', 'address2': 'Ste...  +12142727486   \n",
       "\n",
       "      display_phone      distance  \n",
       "995  (469) 293-8098  27221.320478  \n",
       "996                   8659.055107  \n",
       "997  (214) 929-8829  12513.066435  \n",
       "998  (469) 626-0047  21130.257569  \n",
       "999  (214) 272-7486  10694.508271  "
      ]
     },
     "metadata": {},
     "output_type": "display_data"
    }
   ],
   "source": [
    "final_df = pd.read_json(JSON_FILE)\n",
    "display(final_df.head(), final_df.tail())"
   ]
  },
  {
   "cell_type": "code",
   "execution_count": 24,
   "id": "8216bb27",
   "metadata": {},
   "outputs": [
    {
     "data": {
      "text/plain": [
       "0"
      ]
     },
     "execution_count": 24,
     "metadata": {},
     "output_type": "execute_result"
    }
   ],
   "source": [
    "# checking duplicates\n",
    "final_df.duplicated(subset='id').sum()"
   ]
  }
 ],
 "metadata": {
  "kernelspec": {
   "display_name": "Python (dojo-env)",
   "language": "python",
   "name": "dojo-env"
  },
  "language_info": {
   "codemirror_mode": {
    "name": "ipython",
    "version": 3
   },
   "file_extension": ".py",
   "mimetype": "text/x-python",
   "name": "python",
   "nbconvert_exporter": "python",
   "pygments_lexer": "ipython3",
   "version": "3.8.13"
  },
  "toc": {
   "base_numbering": 1,
   "nav_menu": {},
   "number_sections": false,
   "sideBar": true,
   "skip_h1_title": false,
   "title_cell": "Table of Contents",
   "title_sidebar": "Contents",
   "toc_cell": false,
   "toc_position": {},
   "toc_section_display": true,
   "toc_window_display": false
  }
 },
 "nbformat": 4,
 "nbformat_minor": 5
}
